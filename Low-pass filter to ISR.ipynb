{
 "cells": [
  {
   "cell_type": "markdown",
   "id": "efe07f220f804a5f",
   "metadata": {
    "collapsed": false
   },
   "source": [
    "# Low-pass filter to ISR\n",
    "We can use a simple low pass filter to ISR, here is the example."
   ]
  },
  {
   "cell_type": "code",
   "execution_count": null,
   "id": "892215eb",
   "metadata": {},
   "outputs": [],
   "source": [
    "!pip install torchmetrics\n",
    "!pip install einops"
   ]
  },
  {
   "cell_type": "code",
   "execution_count": 1,
   "id": "dc9e595e35c92629",
   "metadata": {
    "ExecuteTime": {
     "end_time": "2024-02-01T09:01:33.162507300Z",
     "start_time": "2024-02-01T09:01:24.059457600Z"
    },
    "collapsed": false
   },
   "outputs": [
    {
     "name": "stdout",
     "output_type": "stream",
     "text": [
      "LPF ISR performance: psnr=27.45184326171875, ssim=0.7809420824050903, fsds=27.509355337158876\n"
     ]
    }
   ],
   "source": [
    "import FSDS_code\n",
    "import utils\n",
    "from PIL import Image\n",
    "from torchvision.transforms import ToTensor\n",
    "from torchmetrics.image import PeakSignalNoiseRatio, StructuralSimilarityIndexMeasure\n",
    "\n",
    "psnr = PeakSignalNoiseRatio(data_range=1).cuda()\n",
    "ssim = StructuralSimilarityIndexMeasure(data_range=1).cuda()\n",
    "\n",
    "lr = ToTensor()(Image.open(\"./example_figures/baby_x2.png\")).unsqueeze(0).cuda()\n",
    "gt = ToTensor()(Image.open(\"./example_figures/baby.png\")).unsqueeze(0).cuda()\n",
    "sr = utils.lpf_sr(img=lr, scale=2, omega=48.5)\n",
    "print(f\"LPF ISR performance: psnr={psnr(sr, gt)}, ssim={ssim(sr, gt)}, fsds={FSDS_code.FrequencySpectrumDistributionSimilarity(sr, gt)[0]}\")"
   ]
  },
  {
   "cell_type": "markdown",
   "id": "2abc40f7b9990b93",
   "metadata": {
    "collapsed": false
   },
   "source": [
    "# Implementation\n",
    "## 1) Zero-interpolation\n",
    "Before we apply a low-pass filter to the LR image, we first interpolate 0 to it to achieve the target size by:\n",
    "```python\n",
    "def zero_interpolate_torch(img: torch.Tensor, scale: int):\n",
    "    \"\"\"\n",
    "    interpolate 0 by `scale` times\n",
    "    :param img: NxCxHxW\n",
    "    :param scale:\n",
    "    :return:\n",
    "    \"\"\"\n",
    "    if len(img.shape) != 4:  # batched\n",
    "        img = img.unsqueeze(dim=0)\n",
    "    img_ = img.reshape(-1, 1, img.shape[2], img.shape[3])\n",
    "    img_int = torch.concat(\n",
    "        [img_, torch.zeros(img_.shape[0], scale * scale - 1, img_.shape[2], img_.shape[3]).to(img.device)],\n",
    "        dim=1)\n",
    "    return torch.nn.functional.pixel_shuffle(img_int, scale).reshape(img.shape[0], img.shape[1], img.shape[2] * scale,\n",
    "                                                                     img.shape[3] * scale).squeeze(dim=0)\n",
    "\n",
    "```\n",
    "## 2) Low-pass filter\n",
    "Then we apply a low-pass filter to the interpolated image using convolution. The full implementation is:\n",
    "```python\n",
    "def lpf_sr_single(img: torch.Tensor, scale: int, omega=3.):\n",
    "    \"\"\"\n",
    "    Interpolate an image using the sinc function, it's slower than the cubic or others.\n",
    "\n",
    "    :param img: the image to be interpolated.\n",
    "    :param size: the expected size\n",
    "    :param omega: the factor to adjust the scale of the sinc function\n",
    "    :return: the interpolated image\n",
    "    \"\"\"\n",
    "    img_pad = F.pad(input=img,\n",
    "                    pad=(img.shape[2] // 2, img.shape[2] // 2, img.shape[3] // 2, img.shape[3] // 2),\n",
    "                    mode=\"reflect\")\n",
    "    target = zero_interpolate_torch(img_pad, scale)  # zero interpolate to the target size\n",
    "    h_grid = torch.linspace(-1, 1, (img.shape[2] // 2) * scale * 2 + 1)\n",
    "    w_grid = torch.linspace(-1, 1, (img.shape[3] // 2) * scale * 2 + 1)\n",
    "    kernel = torch.meshgrid([h_grid, w_grid], indexing='xy')\n",
    "\n",
    "    kernel = sinc(kernel[0], omega) * sinc(kernel[1], omega) # generate the low-passfilter, the sinc function with parameter omega\n",
    "    kernel = kernel.unsqueeze(dim=0).unsqueeze(dim=0).to(img.device)\n",
    "    # low-pass filtering, since the sinc function is symmetric, we can directly utilize the torch.nn.functional.conv2d\n",
    "    target = F.conv2d(input=target, weight=kernel, stride=1, padding=\"valid\") \n",
    "    for i in range(target.shape[0]):\n",
    "        if torch.max(img[i])>1:  # to avoid a all 0 image\n",
    "            target[i] = (target[i] - torch.min(target[i]))/(torch.max(target[i])-torch.min(target[i])) * (torch.max(img[i])-torch.min(img[i])) + torch.min(img[i])\n",
    "    return target\n",
    "```\n",
    "In the code above, the sinc function is defined as:\n",
    "```python\n",
    "def sinc(tensor, omega):\n",
    "    \"\"\"\n",
    "    The sinc function implementation. sinc(t) is defined as sin(pi*t)/(pi*t), omega is a\n",
    "    factor to adjust the scale\n",
    "    :param tensor: variants of sinc function\n",
    "    :param omega: scale factor\n",
    "    :return:\n",
    "    \"\"\"\n",
    "    return torch.sin(torch.abs(math.pi * tensor * omega) + 1e-9) / (torch.abs(math.pi * tensor * omega) + 1e-9)\n",
    "```"
   ]
  }
 ],
 "metadata": {
  "kernelspec": {
   "display_name": "Python 3 (ipykernel)",
   "language": "python",
   "name": "python3"
  },
  "language_info": {
   "codemirror_mode": {
    "name": "ipython",
    "version": 3
   },
   "file_extension": ".py",
   "mimetype": "text/x-python",
   "name": "python",
   "nbconvert_exporter": "python",
   "pygments_lexer": "ipython3",
   "version": "3.8.16"
  }
 },
 "nbformat": 4,
 "nbformat_minor": 5
}
